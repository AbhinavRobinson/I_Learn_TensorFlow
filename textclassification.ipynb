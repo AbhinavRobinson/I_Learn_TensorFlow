{
  "nbformat": 4,
  "nbformat_minor": 0,
  "metadata": {
    "colab": {
      "name": "textclassification.ipynb",
      "version": "0.3.2",
      "provenance": [],
      "include_colab_link": true
    },
    "kernelspec": {
      "name": "python3",
      "display_name": "Python 3"
    }
  },
  "cells": [
    {
      "cell_type": "markdown",
      "metadata": {
        "id": "view-in-github",
        "colab_type": "text"
      },
      "source": [
        "<a href=\"https://colab.research.google.com/github/AbhinavRobinson/I_Learn_TensorFlow/blob/master/textclassification.ipynb\" target=\"_parent\"><img src=\"https://colab.research.google.com/assets/colab-badge.svg\" alt=\"Open In Colab\"/></a>"
      ]
    },
    {
      "cell_type": "code",
      "metadata": {
        "id": "Emhro-039tgG",
        "colab_type": "code",
        "colab": {
          "base_uri": "https://localhost:8080/",
          "height": 104
        },
        "outputId": "cb241ef5-c82a-468c-f3a0-fdae75433c9b"
      },
      "source": [
        "!pip install -q tf_nightly"
      ],
      "execution_count": 1,
      "outputs": [
        {
          "output_type": "stream",
          "text": [
            "\u001b[K     |████████████████████████████████| 110.8MB 57.7MB/s \n",
            "\u001b[K     |████████████████████████████████| 71kB 20.2MB/s \n",
            "\u001b[K     |████████████████████████████████| 3.8MB 40.7MB/s \n",
            "\u001b[K     |████████████████████████████████| 512kB 42.7MB/s \n",
            "\u001b[?25h  Building wheel for opt-einsum (setup.py) ... \u001b[?25l\u001b[?25hdone\n"
          ],
          "name": "stdout"
        }
      ]
    },
    {
      "cell_type": "code",
      "metadata": {
        "id": "6-gDSRumAHC9",
        "colab_type": "code",
        "colab": {
          "base_uri": "https://localhost:8080/",
          "height": 35
        },
        "outputId": "cd53d484-cac1-4e62-a0bb-fbbd87b5c5cb"
      },
      "source": [
        "from __future__ import absolute_import, division, print_function, unicode_literals\n",
        "\n",
        "import tensorflow as tf\n",
        "from tensorflow import keras\n",
        "\n",
        "import numpy as np\n",
        "\n",
        "print(tf.__version__)"
      ],
      "execution_count": 2,
      "outputs": [
        {
          "output_type": "stream",
          "text": [
            "1.15.0-dev20190821\n"
          ],
          "name": "stdout"
        }
      ]
    },
    {
      "cell_type": "code",
      "metadata": {
        "id": "SajKPCWdAkMR",
        "colab_type": "code",
        "colab": {
          "base_uri": "https://localhost:8080/",
          "height": 52
        },
        "outputId": "fe0f5761-72c5-4e61-9b5e-42e82b4ffc46"
      },
      "source": [
        "imdb = keras.datasets.imdb\n",
        "(train_data, train_labels), (test_data, test_labels) = imdb.load_data(num_words = 10000)\n"
      ],
      "execution_count": 3,
      "outputs": [
        {
          "output_type": "stream",
          "text": [
            "Downloading data from https://storage.googleapis.com/tensorflow/tf-keras-datasets/imdb.npz\n",
            "17465344/17464789 [==============================] - 0s 0us/step\n"
          ],
          "name": "stdout"
        }
      ]
    },
    {
      "cell_type": "code",
      "metadata": {
        "id": "hI3pwHT3A8u_",
        "colab_type": "code",
        "colab": {
          "base_uri": "https://localhost:8080/",
          "height": 35
        },
        "outputId": "86ab744d-e11f-4036-d0bc-d734f1aa2cee"
      },
      "source": [
        "print(\"Training Entries : {} Labels : {}\".format(len(train_data),len(train_labels)))"
      ],
      "execution_count": 4,
      "outputs": [
        {
          "output_type": "stream",
          "text": [
            "Training Entries : 25000 Labels : 25000\n"
          ],
          "name": "stdout"
        }
      ]
    },
    {
      "cell_type": "code",
      "metadata": {
        "id": "P-7vrcGdBLFs",
        "colab_type": "code",
        "colab": {
          "base_uri": "https://localhost:8080/",
          "height": 55
        },
        "outputId": "672c7848-208a-46c2-a68d-684db6dd8d7b"
      },
      "source": [
        "print(train_data[0])"
      ],
      "execution_count": 5,
      "outputs": [
        {
          "output_type": "stream",
          "text": [
            "[1, 14, 22, 16, 43, 530, 973, 1622, 1385, 65, 458, 4468, 66, 3941, 4, 173, 36, 256, 5, 25, 100, 43, 838, 112, 50, 670, 2, 9, 35, 480, 284, 5, 150, 4, 172, 112, 167, 2, 336, 385, 39, 4, 172, 4536, 1111, 17, 546, 38, 13, 447, 4, 192, 50, 16, 6, 147, 2025, 19, 14, 22, 4, 1920, 4613, 469, 4, 22, 71, 87, 12, 16, 43, 530, 38, 76, 15, 13, 1247, 4, 22, 17, 515, 17, 12, 16, 626, 18, 2, 5, 62, 386, 12, 8, 316, 8, 106, 5, 4, 2223, 5244, 16, 480, 66, 3785, 33, 4, 130, 12, 16, 38, 619, 5, 25, 124, 51, 36, 135, 48, 25, 1415, 33, 6, 22, 12, 215, 28, 77, 52, 5, 14, 407, 16, 82, 2, 8, 4, 107, 117, 5952, 15, 256, 4, 2, 7, 3766, 5, 723, 36, 71, 43, 530, 476, 26, 400, 317, 46, 7, 4, 2, 1029, 13, 104, 88, 4, 381, 15, 297, 98, 32, 2071, 56, 26, 141, 6, 194, 7486, 18, 4, 226, 22, 21, 134, 476, 26, 480, 5, 144, 30, 5535, 18, 51, 36, 28, 224, 92, 25, 104, 4, 226, 65, 16, 38, 1334, 88, 12, 16, 283, 5, 16, 4472, 113, 103, 32, 15, 16, 5345, 19, 178, 32]\n"
          ],
          "name": "stdout"
        }
      ]
    },
    {
      "cell_type": "code",
      "metadata": {
        "id": "fvb6xkRzBQm6",
        "colab_type": "code",
        "colab": {
          "base_uri": "https://localhost:8080/",
          "height": 35
        },
        "outputId": "26a0edaf-a591-4c89-ae40-48ea949f777e"
      },
      "source": [
        "len(train_data[0]), len(train_data[1])"
      ],
      "execution_count": 6,
      "outputs": [
        {
          "output_type": "execute_result",
          "data": {
            "text/plain": [
              "(218, 189)"
            ]
          },
          "metadata": {
            "tags": []
          },
          "execution_count": 6
        }
      ]
    },
    {
      "cell_type": "code",
      "metadata": {
        "id": "061PIE79BYMc",
        "colab_type": "code",
        "colab": {}
      },
      "source": [
        "word_index = imdb.get_word_index()\n",
        "\n",
        "word_index = {k:v+3 for k,v in word_index.items()}\n",
        "word_index['<PAD>'] = 0\n",
        "word_index['<START>'] = 1\n",
        "word_index['<UNK>'] = 2\n",
        "word_index['<UNUSED>'] = 3\n",
        "\n",
        "reversed_word_index = dict([(value,key) for (key, value) in word_index.items()])\n",
        "\n",
        "def decode_review(text):\n",
        "  return ''.join([reversed_word_index.get(i, '?') for i in text])"
      ],
      "execution_count": 0,
      "outputs": []
    },
    {
      "cell_type": "code",
      "metadata": {
        "id": "rw3JBq5ZCzNW",
        "colab_type": "code",
        "colab": {
          "base_uri": "https://localhost:8080/",
          "height": 55
        },
        "outputId": "d7842cb5-4b65-418f-e079-6442ec25aafb"
      },
      "source": [
        "decode_review(train_data[0])"
      ],
      "execution_count": 9,
      "outputs": [
        {
          "output_type": "execute_result",
          "data": {
            "text/plain": [
              "\"<START>thisfilmwasjustbrilliantcastinglocationscenerystorydirectioneveryone'sreallysuitedtheparttheyplayedandyoucouldjustimaginebeingthererobert<UNK>isanamazingactorandnowthesamebeingdirector<UNK>fathercamefromthesamescottishislandasmyselfsoilovedthefacttherewasarealconnectionwiththisfilmthewittyremarksthroughoutthefilmweregreatitwasjustbrilliantsomuchthatiboughtthefilmassoonasitwasreleasedfor<UNK>andwouldrecommendittoeveryonetowatchandtheflyfishingwasamazingreallycriedattheenditwassosadandyouknowwhattheysayifyoucryatafilmitmusthavebeengoodandthisdefinitelywasalso<UNK>tothetwolittleboy'sthatplayedthe<UNK>ofnormanandpaultheywerejustbrilliantchildrenareoftenleftoutofthe<UNK>listithinkbecausethestarsthatplaythemallgrownuparesuchabigprofileforthewholefilmbutthesechildrenareamazingandshouldbepraisedforwhattheyhavedonedon'tyouthinkthewholestorywassolovelybecauseitwastrueandwassomeone'slifeafterallthatwassharedwithusall\""
            ]
          },
          "metadata": {
            "tags": []
          },
          "execution_count": 9
        }
      ]
    },
    {
      "cell_type": "code",
      "metadata": {
        "id": "60GjGTrLDA4d",
        "colab_type": "code",
        "colab": {}
      },
      "source": [
        "train_data = keras.preprocessing.sequence.pad_sequences(train_data,\n",
        "                                                        value = word_index[\"<PAD>\"],\n",
        "                                                        padding = 'post',\n",
        "                                                        maxlen = 256)\n",
        "test_data = keras.preprocessing.sequence.pad_sequences(test_data,\n",
        "                                                        value = word_index[\"<PAD>\"],\n",
        "                                                        padding = 'post',\n",
        "                                                        maxlen = 256)"
      ],
      "execution_count": 0,
      "outputs": []
    },
    {
      "cell_type": "code",
      "metadata": {
        "id": "40bAjjXfDrsm",
        "colab_type": "code",
        "colab": {
          "base_uri": "https://localhost:8080/",
          "height": 35
        },
        "outputId": "d743b476-48ba-4a15-b096-cf6ce6cde0b1"
      },
      "source": [
        "len(train_data[0]),len(test_data[0])"
      ],
      "execution_count": 11,
      "outputs": [
        {
          "output_type": "execute_result",
          "data": {
            "text/plain": [
              "(256, 256)"
            ]
          },
          "metadata": {
            "tags": []
          },
          "execution_count": 11
        }
      ]
    },
    {
      "cell_type": "code",
      "metadata": {
        "id": "a-CnNSmnDxD4",
        "colab_type": "code",
        "colab": {
          "base_uri": "https://localhost:8080/",
          "height": 347
        },
        "outputId": "9017d9d6-379f-40ec-9830-537dc4ddbe55"
      },
      "source": [
        "print(train_data[0])"
      ],
      "execution_count": 12,
      "outputs": [
        {
          "output_type": "stream",
          "text": [
            "[   1   14   22   16   43  530  973 1622 1385   65  458 4468   66 3941\n",
            "    4  173   36  256    5   25  100   43  838  112   50  670    2    9\n",
            "   35  480  284    5  150    4  172  112  167    2  336  385   39    4\n",
            "  172 4536 1111   17  546   38   13  447    4  192   50   16    6  147\n",
            " 2025   19   14   22    4 1920 4613  469    4   22   71   87   12   16\n",
            "   43  530   38   76   15   13 1247    4   22   17  515   17   12   16\n",
            "  626   18    2    5   62  386   12    8  316    8  106    5    4 2223\n",
            " 5244   16  480   66 3785   33    4  130   12   16   38  619    5   25\n",
            "  124   51   36  135   48   25 1415   33    6   22   12  215   28   77\n",
            "   52    5   14  407   16   82    2    8    4  107  117 5952   15  256\n",
            "    4    2    7 3766    5  723   36   71   43  530  476   26  400  317\n",
            "   46    7    4    2 1029   13  104   88    4  381   15  297   98   32\n",
            " 2071   56   26  141    6  194 7486   18    4  226   22   21  134  476\n",
            "   26  480    5  144   30 5535   18   51   36   28  224   92   25  104\n",
            "    4  226   65   16   38 1334   88   12   16  283    5   16 4472  113\n",
            "  103   32   15   16 5345   19  178   32    0    0    0    0    0    0\n",
            "    0    0    0    0    0    0    0    0    0    0    0    0    0    0\n",
            "    0    0    0    0    0    0    0    0    0    0    0    0    0    0\n",
            "    0    0    0    0]\n"
          ],
          "name": "stdout"
        }
      ]
    },
    {
      "cell_type": "code",
      "metadata": {
        "id": "Fe2TIH-LD7m1",
        "colab_type": "code",
        "colab": {
          "base_uri": "https://localhost:8080/",
          "height": 295
        },
        "outputId": "9538b411-93f6-47ec-8aaf-ec73743cdd21"
      },
      "source": [
        "vocab_size = 10000\n",
        "\n",
        "model = keras.Sequential()\n",
        "model.add(keras.layers.Embedding(vocab_size, 16))\n",
        "model.add(keras.layers.GlobalAveragePooling1D())\n",
        "model.add(keras.layers.Dense(16, activation = tf.nn.relu))\n",
        "model.add(keras.layers.Dense(1, activation = tf.nn.sigmoid))\n",
        "\n",
        "model.summary()"
      ],
      "execution_count": 14,
      "outputs": [
        {
          "output_type": "stream",
          "text": [
            "Model: \"sequential_1\"\n",
            "_________________________________________________________________\n",
            "Layer (type)                 Output Shape              Param #   \n",
            "=================================================================\n",
            "embedding_1 (Embedding)      (None, None, 16)          160000    \n",
            "_________________________________________________________________\n",
            "global_average_pooling1d_1 ( (None, 16)                0         \n",
            "_________________________________________________________________\n",
            "dense_1 (Dense)              (None, 16)                272       \n",
            "_________________________________________________________________\n",
            "dense_2 (Dense)              (None, 1)                 17        \n",
            "=================================================================\n",
            "Total params: 160,289\n",
            "Trainable params: 160,289\n",
            "Non-trainable params: 0\n",
            "_________________________________________________________________\n"
          ],
          "name": "stdout"
        }
      ]
    },
    {
      "cell_type": "code",
      "metadata": {
        "id": "08DafZELGbF2",
        "colab_type": "code",
        "colab": {
          "base_uri": "https://localhost:8080/",
          "height": 89
        },
        "outputId": "f8d4a7f8-af36-4160-dcb9-b5a1abf696b9"
      },
      "source": [
        "model.compile(optimizer = 'adam',\n",
        "              loss = 'binary_crossentropy',\n",
        "              metrics = ['acc'])"
      ],
      "execution_count": 16,
      "outputs": [
        {
          "output_type": "stream",
          "text": [
            "W0823 15:36:25.464761 140701128443776 deprecation.py:323] From /usr/local/lib/python3.6/dist-packages/tensorflow_core/python/ops/nn_impl.py:183: where (from tensorflow.python.ops.array_ops) is deprecated and will be removed in a future version.\n",
            "Instructions for updating:\n",
            "Use tf.where in 2.0, which has the same broadcast rule as np.where\n"
          ],
          "name": "stderr"
        }
      ]
    },
    {
      "cell_type": "code",
      "metadata": {
        "id": "fmKtqP6IHwvP",
        "colab_type": "code",
        "colab": {}
      },
      "source": [
        "x_val = train_data[:10000]\n",
        "partial_x_train = train_data[10000:]\n",
        "\n",
        "y_val = train_labels[:10000]\n",
        "partial_y_train = train_labels[10000:] "
      ],
      "execution_count": 0,
      "outputs": []
    },
    {
      "cell_type": "code",
      "metadata": {
        "id": "ZVjO7Yp4IVzF",
        "colab_type": "code",
        "colab": {
          "base_uri": "https://localhost:8080/",
          "height": 1000
        },
        "outputId": "b0932b6b-aa79-42cc-e6a1-f150957524c8"
      },
      "source": [
        "history = model.fit(partial_x_train,\n",
        "                    partial_y_train,\n",
        "                    epochs = 40,\n",
        "                    batch_size = 512,\n",
        "                    validation_data = (x_val,y_val),\n",
        "                    verbose = 1)"
      ],
      "execution_count": 18,
      "outputs": [
        {
          "output_type": "stream",
          "text": [
            "Train on 15000 samples, validate on 10000 samples\n",
            "Epoch 1/40\n",
            "15000/15000 [==============================] - 1s 72us/sample - loss: 0.6920 - acc: 0.6333 - val_loss: 0.6906 - val_acc: 0.6936\n",
            "Epoch 2/40\n",
            "15000/15000 [==============================] - 1s 60us/sample - loss: 0.6879 - acc: 0.7260 - val_loss: 0.6847 - val_acc: 0.7322\n",
            "Epoch 3/40\n",
            "15000/15000 [==============================] - 1s 59us/sample - loss: 0.6779 - acc: 0.7548 - val_loss: 0.6714 - val_acc: 0.7406\n",
            "Epoch 4/40\n",
            "15000/15000 [==============================] - 1s 58us/sample - loss: 0.6590 - acc: 0.7561 - val_loss: 0.6490 - val_acc: 0.7423\n",
            "Epoch 5/40\n",
            "15000/15000 [==============================] - 1s 61us/sample - loss: 0.6292 - acc: 0.7840 - val_loss: 0.6169 - val_acc: 0.7733\n",
            "Epoch 6/40\n",
            "15000/15000 [==============================] - 1s 59us/sample - loss: 0.5896 - acc: 0.8029 - val_loss: 0.5777 - val_acc: 0.7958\n",
            "Epoch 7/40\n",
            "15000/15000 [==============================] - 1s 58us/sample - loss: 0.5436 - acc: 0.8207 - val_loss: 0.5340 - val_acc: 0.8119\n",
            "Epoch 8/40\n",
            "15000/15000 [==============================] - 1s 61us/sample - loss: 0.4961 - acc: 0.8393 - val_loss: 0.4923 - val_acc: 0.8260\n",
            "Epoch 9/40\n",
            "15000/15000 [==============================] - 1s 58us/sample - loss: 0.4511 - acc: 0.8537 - val_loss: 0.4539 - val_acc: 0.8380\n",
            "Epoch 10/40\n",
            "15000/15000 [==============================] - 1s 56us/sample - loss: 0.4107 - acc: 0.8673 - val_loss: 0.4217 - val_acc: 0.8474\n",
            "Epoch 11/40\n",
            "15000/15000 [==============================] - 1s 56us/sample - loss: 0.3763 - acc: 0.8769 - val_loss: 0.3949 - val_acc: 0.8552\n",
            "Epoch 12/40\n",
            "15000/15000 [==============================] - 1s 58us/sample - loss: 0.3472 - acc: 0.8849 - val_loss: 0.3743 - val_acc: 0.8583\n",
            "Epoch 13/40\n",
            "15000/15000 [==============================] - 1s 56us/sample - loss: 0.3236 - acc: 0.8913 - val_loss: 0.3560 - val_acc: 0.8661\n",
            "Epoch 14/40\n",
            "15000/15000 [==============================] - 1s 57us/sample - loss: 0.3025 - acc: 0.8973 - val_loss: 0.3427 - val_acc: 0.8699\n",
            "Epoch 15/40\n",
            "15000/15000 [==============================] - 1s 57us/sample - loss: 0.2850 - acc: 0.9013 - val_loss: 0.3317 - val_acc: 0.8717\n",
            "Epoch 16/40\n",
            "15000/15000 [==============================] - 1s 57us/sample - loss: 0.2693 - acc: 0.9074 - val_loss: 0.3225 - val_acc: 0.8731\n",
            "Epoch 17/40\n",
            "15000/15000 [==============================] - 1s 58us/sample - loss: 0.2549 - acc: 0.9113 - val_loss: 0.3150 - val_acc: 0.8760\n",
            "Epoch 18/40\n",
            "15000/15000 [==============================] - 1s 57us/sample - loss: 0.2422 - acc: 0.9159 - val_loss: 0.3083 - val_acc: 0.8791\n",
            "Epoch 19/40\n",
            "15000/15000 [==============================] - 1s 57us/sample - loss: 0.2308 - acc: 0.9197 - val_loss: 0.3027 - val_acc: 0.8801\n",
            "Epoch 20/40\n",
            "15000/15000 [==============================] - 1s 57us/sample - loss: 0.2205 - acc: 0.9229 - val_loss: 0.2989 - val_acc: 0.8801\n",
            "Epoch 21/40\n",
            "15000/15000 [==============================] - 1s 57us/sample - loss: 0.2101 - acc: 0.9283 - val_loss: 0.2955 - val_acc: 0.8814\n",
            "Epoch 22/40\n",
            "15000/15000 [==============================] - 1s 55us/sample - loss: 0.2013 - acc: 0.9301 - val_loss: 0.2924 - val_acc: 0.8831\n",
            "Epoch 23/40\n",
            "15000/15000 [==============================] - 1s 55us/sample - loss: 0.1925 - acc: 0.9341 - val_loss: 0.2909 - val_acc: 0.8833\n",
            "Epoch 24/40\n",
            "15000/15000 [==============================] - 1s 56us/sample - loss: 0.1849 - acc: 0.9387 - val_loss: 0.2887 - val_acc: 0.8841\n",
            "Epoch 25/40\n",
            "15000/15000 [==============================] - 1s 55us/sample - loss: 0.1770 - acc: 0.9425 - val_loss: 0.2869 - val_acc: 0.8844\n",
            "Epoch 26/40\n",
            "15000/15000 [==============================] - 1s 58us/sample - loss: 0.1700 - acc: 0.9453 - val_loss: 0.2870 - val_acc: 0.8835\n",
            "Epoch 27/40\n",
            "15000/15000 [==============================] - 1s 56us/sample - loss: 0.1634 - acc: 0.9481 - val_loss: 0.2862 - val_acc: 0.8839\n",
            "Epoch 28/40\n",
            "15000/15000 [==============================] - 1s 56us/sample - loss: 0.1571 - acc: 0.9509 - val_loss: 0.2860 - val_acc: 0.8850\n",
            "Epoch 29/40\n",
            "15000/15000 [==============================] - 1s 59us/sample - loss: 0.1516 - acc: 0.9537 - val_loss: 0.2873 - val_acc: 0.8838\n",
            "Epoch 30/40\n",
            "15000/15000 [==============================] - 1s 55us/sample - loss: 0.1458 - acc: 0.9549 - val_loss: 0.2863 - val_acc: 0.8851\n",
            "Epoch 31/40\n",
            "15000/15000 [==============================] - 1s 57us/sample - loss: 0.1400 - acc: 0.9580 - val_loss: 0.2870 - val_acc: 0.8867\n",
            "Epoch 32/40\n",
            "15000/15000 [==============================] - 1s 56us/sample - loss: 0.1346 - acc: 0.9601 - val_loss: 0.2880 - val_acc: 0.8861\n",
            "Epoch 33/40\n",
            "15000/15000 [==============================] - 1s 56us/sample - loss: 0.1295 - acc: 0.9621 - val_loss: 0.2899 - val_acc: 0.8858\n",
            "Epoch 34/40\n",
            "15000/15000 [==============================] - 1s 56us/sample - loss: 0.1250 - acc: 0.9642 - val_loss: 0.2914 - val_acc: 0.8860\n",
            "Epoch 35/40\n",
            "15000/15000 [==============================] - 1s 57us/sample - loss: 0.1208 - acc: 0.9647 - val_loss: 0.2935 - val_acc: 0.8859\n",
            "Epoch 36/40\n",
            "15000/15000 [==============================] - 1s 57us/sample - loss: 0.1162 - acc: 0.9673 - val_loss: 0.2950 - val_acc: 0.8862\n",
            "Epoch 37/40\n",
            "15000/15000 [==============================] - 1s 56us/sample - loss: 0.1118 - acc: 0.9683 - val_loss: 0.2972 - val_acc: 0.8855\n",
            "Epoch 38/40\n",
            "15000/15000 [==============================] - 1s 57us/sample - loss: 0.1078 - acc: 0.9697 - val_loss: 0.3003 - val_acc: 0.8837\n",
            "Epoch 39/40\n",
            "15000/15000 [==============================] - 1s 57us/sample - loss: 0.1045 - acc: 0.9710 - val_loss: 0.3031 - val_acc: 0.8832\n",
            "Epoch 40/40\n",
            "15000/15000 [==============================] - 1s 58us/sample - loss: 0.1005 - acc: 0.9734 - val_loss: 0.3054 - val_acc: 0.8838\n"
          ],
          "name": "stdout"
        }
      ]
    },
    {
      "cell_type": "code",
      "metadata": {
        "id": "3ldE7DRPIvRW",
        "colab_type": "code",
        "colab": {
          "base_uri": "https://localhost:8080/",
          "height": 52
        },
        "outputId": "c4ab4a9e-568e-434a-c742-bb098697fe79"
      },
      "source": [
        "results = model.evaluate(test_data , test_labels)\n",
        "\n",
        "print(results)"
      ],
      "execution_count": 19,
      "outputs": [
        {
          "output_type": "stream",
          "text": [
            "25000/25000 [==============================] - 1s 40us/sample - loss: 0.3257 - acc: 0.8727\n",
            "[0.32573401913642885, 0.87268]\n"
          ],
          "name": "stdout"
        }
      ]
    },
    {
      "cell_type": "code",
      "metadata": {
        "id": "JCyXiuSYJEMT",
        "colab_type": "code",
        "colab": {
          "base_uri": "https://localhost:8080/",
          "height": 35
        },
        "outputId": "07e7b87a-c8b5-4de5-ab0f-2cf49952c226"
      },
      "source": [
        "history_dict = history.history\n",
        "history_dict.keys()"
      ],
      "execution_count": 20,
      "outputs": [
        {
          "output_type": "execute_result",
          "data": {
            "text/plain": [
              "dict_keys(['loss', 'acc', 'val_loss', 'val_acc'])"
            ]
          },
          "metadata": {
            "tags": []
          },
          "execution_count": 20
        }
      ]
    },
    {
      "cell_type": "code",
      "metadata": {
        "id": "O5WRXjZyJOKh",
        "colab_type": "code",
        "colab": {
          "base_uri": "https://localhost:8080/",
          "height": 295
        },
        "outputId": "cd59cd87-cbb6-4dd5-f4a2-fe6336cbe665"
      },
      "source": [
        "import matplotlib.pyplot as plt\n",
        "acc = history_dict['acc']\n",
        "val_acc = history_dict['val_acc']\n",
        "loss = history_dict['loss']\n",
        "val_loss = history_dict['val_loss']\n",
        "\n",
        "epochs = range(1, len(acc)+1)\n",
        "\n",
        "plt.plot(epochs , loss, 'bo', label='Training Loss')\n",
        "plt.plot(epochs, val_loss, 'b', label='Validation loss')\n",
        "plt.title('Training and validation loss')\n",
        "plt.xlabel('Epochs')\n",
        "plt.ylabel('Loss')\n",
        "plt.legend()\n",
        "\n",
        "plt.show()"
      ],
      "execution_count": 22,
      "outputs": [
        {
          "output_type": "display_data",
          "data": {
            "image/png": "[encoded data removed]",
            "text/plain": [
              "<Figure size 432x288 with 1 Axes>"
            ]
          },
          "metadata": {
            "tags": []
          }
        }
      ]
    },
    {
      "cell_type": "code",
      "metadata": {
        "id": "egCk4T_YJ0nE",
        "colab_type": "code",
        "colab": {
          "base_uri": "https://localhost:8080/",
          "height": 295
        },
        "outputId": "3f7265f9-e52a-4f86-8ab0-783a76a24f3f"
      },
      "source": [
        "plt.clf() \n",
        "\n",
        "plt.plot(epochs, acc, 'bo', label='Training acc')\n",
        "plt.plot(epochs, val_acc, 'b', label='Validation acc')\n",
        "plt.title('Training and validation accuracy')\n",
        "plt.xlabel('Epochs')\n",
        "plt.ylabel('Accuracy')\n",
        "plt.legend()\n",
        "\n",
        "plt.show()"
      ],
      "execution_count": 23,
      "outputs": [
        {
          "output_type": "display_data",
          "data": {
            "image/png": "[encoded data removed]",
            "text/plain": [
              "<Figure size 432x288 with 1 Axes>"
            ]
          },
          "metadata": {
            "tags": []
          }
        }
      ]
    },
    {
      "cell_type": "code",
      "metadata": {
        "id": "4LmYLivhJ2Vn",
        "colab_type": "code",
        "colab": {}
      },
      "source": [
        ""
      ],
      "execution_count": 0,
      "outputs": []
    }
  ]
}