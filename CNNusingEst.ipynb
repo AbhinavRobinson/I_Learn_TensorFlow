{
  "nbformat": 4,
  "nbformat_minor": 0,
  "metadata": {
    "colab": {
      "name": "CNNusingEst.ipynb",
      "version": "0.3.2",
      "provenance": [],
      "include_colab_link": true
    },
    "kernelspec": {
      "name": "python3",
      "display_name": "Python 3"
    }
  },
  "cells": [
    {
      "cell_type": "markdown",
      "metadata": {
        "id": "view-in-github",
        "colab_type": "text"
      },
      "source": [
        "<a href=\"https://colab.research.google.com/github/AbhinavRobinson/I_Learn_TensorFlow/blob/master/CNNusingEst.ipynb\" target=\"_parent\"><img src=\"https://colab.research.google.com/assets/colab-badge.svg\" alt=\"Open In Colab\"/></a>"
      ]
    },
    {
      "cell_type": "code",
      "metadata": {
        "id": "cDp2mq9HKjw-",
        "colab_type": "code",
        "colab": {
          "base_uri": "https://localhost:8080/",
          "height": 401
        },
        "outputId": "41683240-1a56-4e2e-9fb6-127e777375d3"
      },
      "source": [
        "!pip install tensorflow==1.14.0"
      ],
      "execution_count": 10,
      "outputs": [
        {
          "output_type": "stream",
          "text": [
            "Requirement already satisfied: tensorflow==1.14.0 in /usr/local/lib/python3.6/dist-packages (1.14.0)\n",
            "Requirement already satisfied: absl-py>=0.7.0 in /usr/local/lib/python3.6/dist-packages (from tensorflow==1.14.0) (0.7.1)\n",
            "Requirement already satisfied: tensorboard<1.15.0,>=1.14.0 in /usr/local/lib/python3.6/dist-packages (from tensorflow==1.14.0) (1.14.0)\n",
            "Requirement already satisfied: keras-applications>=1.0.6 in /usr/local/lib/python3.6/dist-packages (from tensorflow==1.14.0) (1.0.8)\n",
            "Requirement already satisfied: astor>=0.6.0 in /usr/local/lib/python3.6/dist-packages (from tensorflow==1.14.0) (0.8.0)\n",
            "Requirement already satisfied: numpy<2.0,>=1.14.5 in /usr/local/lib/python3.6/dist-packages (from tensorflow==1.14.0) (1.16.4)\n",
            "Requirement already satisfied: six>=1.10.0 in /usr/local/lib/python3.6/dist-packages (from tensorflow==1.14.0) (1.12.0)\n",
            "Requirement already satisfied: termcolor>=1.1.0 in /usr/local/lib/python3.6/dist-packages (from tensorflow==1.14.0) (1.1.0)\n",
            "Requirement already satisfied: wheel>=0.26 in /usr/local/lib/python3.6/dist-packages (from tensorflow==1.14.0) (0.33.4)\n",
            "Requirement already satisfied: gast>=0.2.0 in /usr/local/lib/python3.6/dist-packages (from tensorflow==1.14.0) (0.2.2)\n",
            "Requirement already satisfied: protobuf>=3.6.1 in /usr/local/lib/python3.6/dist-packages (from tensorflow==1.14.0) (3.7.1)\n",
            "Requirement already satisfied: tensorflow-estimator<1.15.0rc0,>=1.14.0rc0 in /usr/local/lib/python3.6/dist-packages (from tensorflow==1.14.0) (1.14.0)\n",
            "Requirement already satisfied: wrapt>=1.11.1 in /usr/local/lib/python3.6/dist-packages (from tensorflow==1.14.0) (1.11.2)\n",
            "Requirement already satisfied: keras-preprocessing>=1.0.5 in /usr/local/lib/python3.6/dist-packages (from tensorflow==1.14.0) (1.1.0)\n",
            "Requirement already satisfied: grpcio>=1.8.6 in /usr/local/lib/python3.6/dist-packages (from tensorflow==1.14.0) (1.15.0)\n",
            "Requirement already satisfied: google-pasta>=0.1.6 in /usr/local/lib/python3.6/dist-packages (from tensorflow==1.14.0) (0.1.7)\n",
            "Requirement already satisfied: werkzeug>=0.11.15 in /usr/local/lib/python3.6/dist-packages (from tensorboard<1.15.0,>=1.14.0->tensorflow==1.14.0) (0.15.5)\n",
            "Requirement already satisfied: setuptools>=41.0.0 in /usr/local/lib/python3.6/dist-packages (from tensorboard<1.15.0,>=1.14.0->tensorflow==1.14.0) (41.2.0)\n",
            "Requirement already satisfied: markdown>=2.6.8 in /usr/local/lib/python3.6/dist-packages (from tensorboard<1.15.0,>=1.14.0->tensorflow==1.14.0) (3.1.1)\n",
            "Requirement already satisfied: h5py in /usr/local/lib/python3.6/dist-packages (from keras-applications>=1.0.6->tensorflow==1.14.0) (2.8.0)\n"
          ],
          "name": "stdout"
        }
      ]
    },
    {
      "cell_type": "code",
      "metadata": {
        "id": "HOBuSNYcAW6e",
        "colab_type": "code",
        "colab": {}
      },
      "source": [
        "from __future__ import absolute_import, division, print_function, unicode_literals\n",
        "\n",
        "import tensorflow as tf\n",
        "import numpy as np\n",
        "\n",
        "tf.logging.set_verbosity(tf.logging.INFO)"
      ],
      "execution_count": 0,
      "outputs": []
    },
    {
      "cell_type": "code",
      "metadata": {
        "id": "w5IynJ8UAZXH",
        "colab_type": "code",
        "colab": {}
      },
      "source": [
        "def cnn_model_fn(features, labels, mode):\n",
        "  input_layer = tf.reshape(features[\"x\"], [-1, 28, 28, 1])\n",
        "\n",
        "  conv1 = tf.layers.conv2d(\n",
        "      inputs=input_layer,\n",
        "      filters=32,\n",
        "      kernel_size=[5, 5],\n",
        "      padding=\"same\",\n",
        "      activation=tf.nn.relu)\n",
        "\n",
        "  pool1 = tf.layers.max_pooling2d(inputs=conv1, pool_size=[2, 2], strides=2)\n",
        "\n",
        "  conv2 = tf.layers.conv2d(\n",
        "      inputs=pool1,\n",
        "      filters=64,\n",
        "      kernel_size=[5, 5],\n",
        "      padding=\"same\",\n",
        "      activation=tf.nn.relu)\n",
        "  pool2 = tf.layers.max_pooling2d(inputs=conv2, pool_size=[2, 2], strides=2)\n",
        "\n",
        "  pool2_flat = tf.reshape(pool2, [-1, 7 * 7 * 64])\n",
        "  dense = tf.layers.dense(inputs=pool2_flat, units=1024, activation=tf.nn.relu)\n",
        "  dropout = tf.layers.dropout(\n",
        "      inputs=dense, rate=0.4, training=mode == tf.estimator.ModeKeys.TRAIN)\n",
        "\n",
        "  logits = tf.layers.dense(inputs=dropout, units=10)\n",
        "\n",
        "  predictions = {\n",
        "      \"classes\": tf.argmax(input=logits, axis=1),\n",
        "      \"probabilities\": tf.nn.softmax(logits, name=\"softmax_tensor\")\n",
        "  }\n",
        "\n",
        "  if mode == tf.estimator.ModeKeys.PREDICT:\n",
        "    return tf.estimator.EstimatorSpec(mode=mode, predictions=predictions)\n",
        "\n",
        "  loss = tf.losses.sparse_softmax_cross_entropy(labels=labels, logits=logits)\n",
        "\n",
        "  if mode == tf.estimator.ModeKeys.TRAIN:\n",
        "    optimizer = tf.train.GradientDescentOptimizer(learning_rate=0.001)\n",
        "    train_op = optimizer.minimize(\n",
        "        loss=loss,\n",
        "        global_step=tf.train.get_global_step())\n",
        "    return tf.estimator.EstimatorSpec(mode=mode, loss=loss, train_op=train_op)\n",
        "\n",
        "  eval_metric_ops = {\n",
        "      \"accuracy\": tf.metrics.accuracy(\n",
        "          labels=labels, predictions=predictions[\"classes\"])\n",
        "  }\n",
        "  return tf.estimator.EstimatorSpec(\n",
        "      mode=mode, loss=loss, eval_metric_ops=eval_metric_ops)"
      ],
      "execution_count": 0,
      "outputs": []
    },
    {
      "cell_type": "code",
      "metadata": {
        "id": "bdHUM_eTCoa8",
        "colab_type": "code",
        "colab": {
          "base_uri": "https://localhost:8080/",
          "height": 54
        },
        "outputId": "5eca399a-019e-4ef5-a505-d5071b047b53"
      },
      "source": [
        "((train_data, train_labels),\n",
        " (eval_data, eval_labels)) = tf.keras.datasets.mnist.load_data()\n",
        "\n",
        "train_data = train_data/np.float32(255)\n",
        "train_labels = train_labels.astype(np.int32)\n",
        "\n",
        "eval_data = eval_data/np.float32(255)\n",
        "eval_labels = eval_labels.astype(np.int32)"
      ],
      "execution_count": 18,
      "outputs": [
        {
          "output_type": "stream",
          "text": [
            "Downloading data from https://storage.googleapis.com/tensorflow/tf-keras-datasets/mnist.npz\n",
            "11493376/11490434 [==============================] - 0s 0us/step\n"
          ],
          "name": "stdout"
        }
      ]
    },
    {
      "cell_type": "code",
      "metadata": {
        "id": "IbT9iln3L810",
        "colab_type": "code",
        "colab": {
          "base_uri": "https://localhost:8080/",
          "height": 183
        },
        "outputId": "42595c1d-5ddd-4ba4-95e1-97ab4b8e5bd4"
      },
      "source": [
        "mnist_classifier = tf.estimator.Estimator(\n",
        "    model_fn=cnn_model_fn, model_dir=\"/tmp/mnist_convnet_model\")"
      ],
      "execution_count": 19,
      "outputs": [
        {
          "output_type": "stream",
          "text": [
            "I0826 04:29:49.963805 139969877960576 estimator.py:1795] Using default config.\n",
            "I0826 04:29:49.966717 139969877960576 estimator.py:209] Using config: {'_model_dir': '/tmp/mnist_convnet_model', '_tf_random_seed': None, '_save_summary_steps': 100, '_save_checkpoints_steps': None, '_save_checkpoints_secs': 600, '_session_config': allow_soft_placement: true\n",
            "graph_options {\n",
            "  rewrite_options {\n",
            "    meta_optimizer_iterations: ONE\n",
            "  }\n",
            "}\n",
            ", '_keep_checkpoint_max': 5, '_keep_checkpoint_every_n_hours': 10000, '_log_step_count_steps': 100, '_train_distribute': None, '_device_fn': None, '_protocol': None, '_eval_distribute': None, '_experimental_distribute': None, '_experimental_max_worker_delay_secs': None, '_service': None, '_cluster_spec': <tensorflow.python.training.server_lib.ClusterSpec object at 0x7f4cfc400860>, '_task_type': 'worker', '_task_id': 0, '_global_id_in_cluster': 0, '_master': '', '_evaluation_master': '', '_is_chief': True, '_num_ps_replicas': 0, '_num_worker_replicas': 1}\n"
          ],
          "name": "stderr"
        }
      ]
    },
    {
      "cell_type": "code",
      "metadata": {
        "id": "LkTXN3ZPMA5S",
        "colab_type": "code",
        "colab": {}
      },
      "source": [
        "tensors_to_log = {\"probabilities\": \"softmax_tensor\"}\n",
        "\n",
        "logging_hook = tf.train.LoggingTensorHook(\n",
        "    tensors=tensors_to_log, every_n_iter=50)"
      ],
      "execution_count": 0,
      "outputs": []
    },
    {
      "cell_type": "code",
      "metadata": {
        "id": "MPSitF6AMDKC",
        "colab_type": "code",
        "colab": {
          "base_uri": "https://localhost:8080/",
          "height": 1000
        },
        "outputId": "756abfc3-b9d6-4b5e-d0a1-e985664ba739"
      },
      "source": [
        "train_input_fn = tf.estimator.inputs.numpy_input_fn(\n",
        "    x={\"x\": train_data},\n",
        "    y=train_labels,\n",
        "    batch_size=100,\n",
        "    num_epochs=None,\n",
        "    shuffle=True)\n",
        "\n",
        "mnist_classifier.train(\n",
        "    input_fn=train_input_fn,\n",
        "    steps=1,\n",
        "    hooks=[logging_hook])"
      ],
      "execution_count": 22,
      "outputs": [
        {
          "output_type": "stream",
          "text": [
            "W0826 04:30:35.099937 139969877960576 deprecation.py:323] From /usr/local/lib/python3.6/dist-packages/tensorflow_core/python/training/training_util.py:236: Variable.initialized_value (from tensorflow.python.ops.variables) is deprecated and will be removed in a future version.\n",
            "Instructions for updating:\n",
            "Use Variable.read_value. Variables in 2.X are initialized automatically both in eager and graph (inside tf.defun) contexts.\n",
            "W0826 04:30:35.118435 139969877960576 deprecation.py:323] From /usr/local/lib/python3.6/dist-packages/tensorflow_estimator/python/estimator/inputs/queues/feeding_queue_runner.py:62: QueueRunner.__init__ (from tensorflow.python.training.queue_runner_impl) is deprecated and will be removed in a future version.\n",
            "Instructions for updating:\n",
            "To construct input pipelines, use the `tf.data` module.\n",
            "W0826 04:30:35.121153 139969877960576 deprecation.py:323] From /usr/local/lib/python3.6/dist-packages/tensorflow_estimator/python/estimator/inputs/queues/feeding_functions.py:500: add_queue_runner (from tensorflow.python.training.queue_runner_impl) is deprecated and will be removed in a future version.\n",
            "Instructions for updating:\n",
            "To construct input pipelines, use the `tf.data` module.\n",
            "I0826 04:30:35.134274 139969877960576 estimator.py:1145] Calling model_fn.\n",
            "W0826 04:30:35.137883 139969877960576 deprecation.py:323] From <ipython-input-7-5de5b19dc326>:9: conv2d (from tensorflow.python.layers.convolutional) is deprecated and will be removed in a future version.\n",
            "Instructions for updating:\n",
            "Use `tf.keras.layers.Conv2D` instead.\n",
            "W0826 04:30:35.140968 139969877960576 deprecation.py:323] From /usr/local/lib/python3.6/dist-packages/tensorflow_core/python/layers/convolutional.py:424: Layer.apply (from tensorflow.python.keras.engine.base_layer) is deprecated and will be removed in a future version.\n",
            "Instructions for updating:\n",
            "Please use `layer.__call__` method instead.\n",
            "W0826 04:30:35.161657 139969877960576 deprecation.py:323] From <ipython-input-7-5de5b19dc326>:11: max_pooling2d (from tensorflow.python.layers.pooling) is deprecated and will be removed in a future version.\n",
            "Instructions for updating:\n",
            "Use keras.layers.MaxPooling2D instead.\n",
            "W0826 04:30:35.184777 139969877960576 deprecation.py:323] From <ipython-input-7-5de5b19dc326>:22: dense (from tensorflow.python.layers.core) is deprecated and will be removed in a future version.\n",
            "Instructions for updating:\n",
            "Use keras.layers.Dense instead.\n",
            "W0826 04:30:35.203012 139969877960576 deprecation.py:323] From <ipython-input-7-5de5b19dc326>:24: dropout (from tensorflow.python.layers.core) is deprecated and will be removed in a future version.\n",
            "Instructions for updating:\n",
            "Use keras.layers.dropout instead.\n",
            "W0826 04:30:35.239257 139969877960576 deprecation.py:323] From /usr/local/lib/python3.6/dist-packages/tensorflow_core/python/ops/losses/losses_impl.py:121: where (from tensorflow.python.ops.array_ops) is deprecated and will be removed in a future version.\n",
            "Instructions for updating:\n",
            "Use tf.where in 2.0, which has the same broadcast rule as np.where\n",
            "W0826 04:30:35.332360 139969877960576 deprecation.py:323] From /usr/local/lib/python3.6/dist-packages/tensorflow_estimator/python/estimator/model_fn.py:337: scalar (from tensorflow.python.framework.tensor_shape) is deprecated and will be removed in a future version.\n",
            "Instructions for updating:\n",
            "Use tf.TensorShape([]).\n",
            "I0826 04:30:35.333648 139969877960576 estimator.py:1147] Done calling model_fn.\n",
            "I0826 04:30:35.336733 139969877960576 basic_session_run_hooks.py:541] Create CheckpointSaverHook.\n",
            "I0826 04:30:35.603396 139969877960576 monitored_session.py:240] Graph was finalized.\n",
            "I0826 04:30:35.669986 139969877960576 session_manager.py:500] Running local_init_op.\n",
            "I0826 04:30:35.678560 139969877960576 session_manager.py:502] Done running local_init_op.\n",
            "W0826 04:30:35.693459 139969877960576 deprecation.py:323] From /usr/local/lib/python3.6/dist-packages/tensorflow_core/python/training/monitored_session.py:882: start_queue_runners (from tensorflow.python.training.queue_runner_impl) is deprecated and will be removed in a future version.\n",
            "Instructions for updating:\n",
            "To construct input pipelines, use the `tf.data` module.\n",
            "I0826 04:30:35.843437 139969877960576 basic_session_run_hooks.py:606] Saving checkpoints for 0 into /tmp/mnist_convnet_model/model.ckpt.\n",
            "I0826 04:30:36.299775 139969877960576 basic_session_run_hooks.py:262] probabilities = [[0.10638712 0.09865455 0.09943213 0.10788491 0.10040566 0.08364279\n",
            "  0.10222939 0.09431438 0.10244501 0.10460413]\n",
            " [0.09341679 0.10514624 0.11000255 0.09436701 0.0946811  0.10435364\n",
            "  0.10663439 0.08507431 0.10784705 0.09847689]\n",
            " [0.09551712 0.10483016 0.13188563 0.09589963 0.09384391 0.08932018\n",
            "  0.1030184  0.07289125 0.11064216 0.10215149]\n",
            " [0.09186064 0.1157593  0.10202325 0.10559639 0.11425019 0.09174373\n",
            "  0.10305998 0.08213951 0.10172202 0.091845  ]\n",
            " [0.10562458 0.09127324 0.10639304 0.10264106 0.09568329 0.0996011\n",
            "  0.10289689 0.09619061 0.08980282 0.10989343]\n",
            " [0.096785   0.12187363 0.11163791 0.08998466 0.1038278  0.0982412\n",
            "  0.09325431 0.10143034 0.09618057 0.08678462]\n",
            " [0.09251986 0.10497601 0.11257986 0.09751572 0.09331643 0.09440926\n",
            "  0.09718807 0.10801525 0.10473667 0.09474286]\n",
            " [0.10141803 0.10809878 0.11334224 0.08815625 0.10728586 0.0916655\n",
            "  0.10456387 0.089972   0.10501451 0.0904829 ]\n",
            " [0.09693631 0.112008   0.10533318 0.09648495 0.09317926 0.09388483\n",
            "  0.09677236 0.09425713 0.10073231 0.11041166]\n",
            " [0.09475151 0.11310542 0.10390259 0.11721522 0.09998659 0.08428956\n",
            "  0.0890098  0.08250287 0.10587811 0.10935834]\n",
            " [0.09956724 0.10266744 0.11617471 0.08603287 0.11089119 0.09279702\n",
            "  0.10723484 0.08613807 0.09734491 0.10115175]\n",
            " [0.10407025 0.09534004 0.11003925 0.10331608 0.09727696 0.08687429\n",
            "  0.10359859 0.0958942  0.09588486 0.10770554]\n",
            " [0.09227427 0.11313678 0.11113115 0.09429366 0.09295602 0.09672239\n",
            "  0.09926172 0.09851617 0.09836306 0.10334474]\n",
            " [0.08944644 0.10165916 0.14570433 0.08360401 0.09571565 0.08915043\n",
            "  0.09973572 0.08844485 0.10318363 0.10335578]\n",
            " [0.10137126 0.10758147 0.10350206 0.09465463 0.10305646 0.09984833\n",
            "  0.10352272 0.09574994 0.09860377 0.0921094 ]\n",
            " [0.09200282 0.10909612 0.11087215 0.0931539  0.1013818  0.10183246\n",
            "  0.09373023 0.09470485 0.09539495 0.10783076]\n",
            " [0.09491064 0.1159697  0.11069492 0.11194264 0.08842756 0.09648707\n",
            "  0.09889676 0.08519951 0.09964129 0.09782985]\n",
            " [0.09137679 0.10073015 0.11291202 0.08369032 0.10274887 0.10613848\n",
            "  0.10568719 0.08823807 0.11099704 0.09748101]\n",
            " [0.10520726 0.1034859  0.09951244 0.10204127 0.10134294 0.10135263\n",
            "  0.10264675 0.09452191 0.09989904 0.08998986]\n",
            " [0.08523868 0.11360361 0.112151   0.10104731 0.09427735 0.09400452\n",
            "  0.10521284 0.09257475 0.10871911 0.09317078]\n",
            " [0.0938301  0.10627698 0.10798534 0.09148048 0.09433091 0.11364216\n",
            "  0.10677243 0.09093045 0.10923921 0.08551189]\n",
            " [0.09186694 0.11795166 0.10916302 0.09199278 0.10208509 0.09110416\n",
            "  0.09793436 0.10041724 0.10620142 0.09128333]\n",
            " [0.09817374 0.09906946 0.10811701 0.09997942 0.09518722 0.1018829\n",
            "  0.10668632 0.09148254 0.1000614  0.09936002]\n",
            " [0.0965786  0.11953841 0.10578229 0.09946723 0.10356814 0.0916849\n",
            "  0.09249476 0.08513026 0.0932703  0.11248512]\n",
            " [0.0947942  0.09804521 0.10699429 0.09614088 0.11098789 0.0940824\n",
            "  0.11038056 0.09213208 0.0974175  0.09902494]\n",
            " [0.10353194 0.09263904 0.11977555 0.08526509 0.09581847 0.09029765\n",
            "  0.10680755 0.08992271 0.11240881 0.10353319]\n",
            " [0.09895518 0.12205591 0.10439191 0.08908292 0.10089488 0.09757799\n",
            "  0.08206234 0.10771251 0.10329554 0.09397077]\n",
            " [0.11117736 0.109677   0.1043069  0.10035822 0.09292839 0.0928461\n",
            "  0.10073448 0.09538662 0.09482766 0.09775731]\n",
            " [0.10304135 0.10657009 0.10735905 0.11292582 0.09561295 0.08999082\n",
            "  0.09086134 0.09683466 0.1006835  0.09612045]\n",
            " [0.09765009 0.11301382 0.11433013 0.09072602 0.09658491 0.09705506\n",
            "  0.10307847 0.08517925 0.10630078 0.09608143]\n",
            " [0.09502918 0.10878583 0.11376859 0.08768236 0.09236693 0.07822245\n",
            "  0.0933397  0.10314198 0.11660385 0.11105912]\n",
            " [0.09279704 0.11779629 0.12212149 0.08806997 0.09516633 0.09422129\n",
            "  0.09243013 0.09122524 0.10520689 0.10096531]\n",
            " [0.10936376 0.11098672 0.10365588 0.08863838 0.10370851 0.09801095\n",
            "  0.10487072 0.08170082 0.105782   0.09328228]\n",
            " [0.10458645 0.10764064 0.09715373 0.09677088 0.09351244 0.09902371\n",
            "  0.10501439 0.08361804 0.10545397 0.10722573]\n",
            " [0.09489856 0.10111994 0.11916545 0.09153359 0.11821917 0.09232206\n",
            "  0.09427287 0.09378944 0.10040861 0.09427036]\n",
            " [0.09810726 0.11068308 0.11087733 0.0913894  0.10937394 0.0985542\n",
            "  0.08917196 0.10051741 0.10410572 0.08721966]\n",
            " [0.11229587 0.11099548 0.11676271 0.08578084 0.08961678 0.095561\n",
            "  0.10137161 0.09409893 0.09244008 0.10107671]\n",
            " [0.09430192 0.107149   0.10633039 0.10758652 0.09995726 0.09419311\n",
            "  0.09849917 0.09410133 0.10005713 0.09782416]\n",
            " [0.09150562 0.09883617 0.12729032 0.09537949 0.10715318 0.08653063\n",
            "  0.10723558 0.08385932 0.10961691 0.09259289]\n",
            " [0.10454082 0.10682272 0.10247301 0.10840309 0.10251393 0.08011351\n",
            "  0.09362573 0.09455074 0.09884728 0.10810914]\n",
            " [0.10099021 0.09972216 0.10955057 0.10774561 0.10386384 0.09296388\n",
            "  0.09516308 0.09258812 0.09925001 0.09816255]\n",
            " [0.09368875 0.11409043 0.10894836 0.09742059 0.10202383 0.10920687\n",
            "  0.09439924 0.08352778 0.10529518 0.09139902]\n",
            " [0.09269766 0.11528968 0.10855854 0.09482821 0.1074029  0.09435546\n",
            "  0.08852142 0.10139497 0.09952758 0.09742359]\n",
            " [0.08740533 0.11805191 0.11255881 0.11379626 0.10551906 0.0851687\n",
            "  0.08699459 0.08703975 0.09883963 0.10462605]\n",
            " [0.10012753 0.1180748  0.11065716 0.09066797 0.09500888 0.08703562\n",
            "  0.08580828 0.105398   0.10304853 0.10417321]\n",
            " [0.10742465 0.11202332 0.10373927 0.08517854 0.09507268 0.09240879\n",
            "  0.10459303 0.10049033 0.09910156 0.09996784]\n",
            " [0.09405805 0.09848884 0.11805757 0.10548203 0.11026347 0.10219376\n",
            "  0.08683135 0.08457383 0.09664852 0.10340258]\n",
            " [0.09274935 0.09629495 0.11652939 0.11429079 0.11039669 0.10097842\n",
            "  0.08934758 0.08339036 0.10420874 0.0918137 ]\n",
            " [0.11092797 0.10923935 0.10424791 0.09968209 0.09826116 0.09741966\n",
            "  0.0931473  0.09575902 0.09357293 0.09774262]\n",
            " [0.10221912 0.11838292 0.11157158 0.10147265 0.10836615 0.08856583\n",
            "  0.08668008 0.08872563 0.09398086 0.10003524]\n",
            " [0.08979158 0.10040484 0.1392536  0.09099589 0.09751442 0.09162707\n",
            "  0.09247696 0.08920778 0.09949214 0.10923567]\n",
            " [0.09694695 0.11688115 0.10430318 0.09647091 0.10148633 0.09762393\n",
            "  0.09841485 0.08491708 0.1103926  0.09256302]\n",
            " [0.09302291 0.11993722 0.12440766 0.08489718 0.09711744 0.09934924\n",
            "  0.09017212 0.09750808 0.10471193 0.08887623]\n",
            " [0.09155361 0.10973547 0.10880885 0.09209646 0.10140473 0.10141978\n",
            "  0.11029442 0.08921464 0.10071052 0.09476155]\n",
            " [0.09460822 0.11729337 0.11022717 0.09389216 0.09190073 0.09239924\n",
            "  0.10553215 0.09950276 0.10250223 0.09214198]\n",
            " [0.08777883 0.12531847 0.12794834 0.09527995 0.09996926 0.08755195\n",
            "  0.09539798 0.08244909 0.09870769 0.09959838]\n",
            " [0.09521524 0.10068405 0.10981164 0.09516484 0.09996567 0.09705777\n",
            "  0.10499928 0.08933573 0.11101237 0.09675343]\n",
            " [0.0967086  0.10943617 0.11540809 0.08627348 0.10338818 0.09685634\n",
            "  0.09960315 0.09427053 0.10116152 0.09689391]\n",
            " [0.09986147 0.09823491 0.11319521 0.09568983 0.10079038 0.09206833\n",
            "  0.10325634 0.08928639 0.10862917 0.09898797]\n",
            " [0.10178994 0.11253435 0.11479293 0.09374897 0.0986847  0.09445171\n",
            "  0.08882213 0.09562904 0.10415335 0.09539292]\n",
            " [0.094924   0.0982426  0.12436013 0.08993944 0.10584351 0.09514499\n",
            "  0.10019454 0.09784832 0.10014269 0.09335978]\n",
            " [0.08404649 0.12316792 0.10610793 0.09695662 0.09587499 0.10735543\n",
            "  0.09365532 0.08247761 0.10958453 0.10077323]\n",
            " [0.10064751 0.10464184 0.12027965 0.08771341 0.09050506 0.08383936\n",
            "  0.10811753 0.09148996 0.1163335  0.09643219]\n",
            " [0.09737558 0.10225452 0.10533641 0.09236912 0.1024464  0.09920877\n",
            "  0.11484251 0.08897821 0.1017253  0.09546316]\n",
            " [0.08925076 0.10841119 0.11709478 0.09152424 0.09688014 0.08505458\n",
            "  0.11272061 0.09305292 0.10304562 0.10296514]\n",
            " [0.09816031 0.10255212 0.10336396 0.09637788 0.10779463 0.0962053\n",
            "  0.09638733 0.09901325 0.10486522 0.09527998]\n",
            " [0.08955292 0.10124148 0.11257611 0.10977633 0.1109811  0.08843708\n",
            "  0.10068071 0.09761453 0.09643764 0.09270213]\n",
            " [0.09123185 0.1115374  0.10537565 0.10790694 0.09749607 0.09510607\n",
            "  0.1017444  0.09179629 0.09617696 0.10162837]\n",
            " [0.09418242 0.09735605 0.10889    0.1087474  0.1179186  0.0962057\n",
            "  0.09572218 0.08986826 0.09815202 0.0929574 ]\n",
            " [0.09361801 0.12448452 0.11216956 0.09328177 0.09652758 0.0951047\n",
            "  0.09531581 0.09177931 0.10172831 0.09599032]\n",
            " [0.08911516 0.10161294 0.11222696 0.09269445 0.09784319 0.1077898\n",
            "  0.0917081  0.08864348 0.11344472 0.10492115]\n",
            " [0.087176   0.10986384 0.11011329 0.10354452 0.09479532 0.091393\n",
            "  0.10628901 0.08982003 0.11164571 0.09535928]\n",
            " [0.10947629 0.09872803 0.11369441 0.10772526 0.10223626 0.08960851\n",
            "  0.09182289 0.09070089 0.09788558 0.098122  ]\n",
            " [0.10489845 0.09929843 0.10576881 0.10991805 0.09949107 0.09402297\n",
            "  0.09978854 0.09023875 0.09873229 0.09784261]\n",
            " [0.10248821 0.0973508  0.10530749 0.10350141 0.09637403 0.09945191\n",
            "  0.09787341 0.0905157  0.10035638 0.1067806 ]\n",
            " [0.09722795 0.10472266 0.10892612 0.09490945 0.10943913 0.09299067\n",
            "  0.09733859 0.08991329 0.10004624 0.10448579]\n",
            " [0.09553931 0.09988035 0.12425283 0.09748609 0.09737463 0.08867934\n",
            "  0.1004034  0.09364788 0.09629627 0.10643994]\n",
            " [0.09545596 0.11072779 0.09963156 0.09059037 0.09911395 0.099678\n",
            "  0.10510328 0.09663013 0.10977269 0.09329633]\n",
            " [0.09887561 0.09282193 0.11825355 0.09931317 0.10448862 0.09682985\n",
            "  0.09248328 0.09783857 0.10139566 0.0976998 ]\n",
            " [0.09473795 0.09757888 0.11696407 0.10576788 0.10578457 0.0954437\n",
            "  0.09193569 0.09081937 0.10231829 0.09864965]\n",
            " [0.10336278 0.11060929 0.10910115 0.09282415 0.09451956 0.09709927\n",
            "  0.10364407 0.08775506 0.10756797 0.09351668]\n",
            " [0.09988794 0.10919168 0.12068675 0.08951029 0.11283138 0.08746339\n",
            "  0.09475619 0.09641459 0.09735913 0.0918987 ]\n",
            " [0.09510077 0.11790086 0.12319802 0.08792063 0.09699433 0.0782169\n",
            "  0.09633586 0.08881242 0.11898332 0.09653693]\n",
            " [0.08578996 0.09937231 0.12743759 0.10385323 0.10546815 0.09235822\n",
            "  0.1060519  0.08234894 0.09040117 0.10691855]\n",
            " [0.10363169 0.10454366 0.09758574 0.10012675 0.0981268  0.10063455\n",
            "  0.09469189 0.10314984 0.1042864  0.09322269]\n",
            " [0.09948541 0.11557223 0.10618883 0.11037946 0.10570603 0.08556473\n",
            "  0.09511123 0.08782611 0.09417041 0.09999559]\n",
            " [0.10229076 0.11123676 0.11048159 0.08780152 0.10079046 0.09773973\n",
            "  0.10075851 0.09340429 0.09967004 0.09582628]\n",
            " [0.0959672  0.11161068 0.11218481 0.09502911 0.10417447 0.08715903\n",
            "  0.09684776 0.08534973 0.10863778 0.10303944]\n",
            " [0.10022052 0.10907106 0.10145716 0.09936836 0.08981817 0.09726895\n",
            "  0.10535435 0.09651588 0.10575578 0.09516981]\n",
            " [0.10697729 0.10911314 0.11406158 0.09779479 0.10352408 0.08649347\n",
            "  0.09409598 0.08976096 0.09864771 0.09953094]\n",
            " [0.0954088  0.11016034 0.10800511 0.09795307 0.09554426 0.09554607\n",
            "  0.0989444  0.09338931 0.1076137  0.09743494]\n",
            " [0.10573956 0.11171254 0.10297268 0.10301014 0.09564116 0.08759337\n",
            "  0.0944701  0.09831424 0.10461573 0.09593041]\n",
            " [0.09915363 0.118396   0.09925383 0.09219015 0.0837893  0.09413528\n",
            "  0.10265373 0.09627412 0.119999   0.09415498]\n",
            " [0.10444701 0.09891101 0.10909916 0.10157078 0.11204792 0.0960525\n",
            "  0.09112264 0.08721376 0.09592441 0.10361081]\n",
            " [0.08981    0.13547064 0.11000009 0.10184401 0.09571996 0.08485848\n",
            "  0.09964384 0.08590747 0.10223187 0.09451363]\n",
            " [0.09408423 0.09728397 0.12931605 0.09333222 0.09079558 0.10058248\n",
            "  0.10024012 0.08624308 0.10687364 0.10124867]\n",
            " [0.10376226 0.09430049 0.09885593 0.10150263 0.10414279 0.09663267\n",
            "  0.09796919 0.09851025 0.10709661 0.09722724]\n",
            " [0.1017512  0.10192274 0.12750855 0.10131759 0.12285778 0.06898027\n",
            "  0.07592556 0.08361466 0.10281538 0.11330629]\n",
            " [0.09523116 0.11093444 0.10687181 0.09166904 0.10948554 0.09403705\n",
            "  0.09931835 0.09292339 0.10602833 0.09350086]\n",
            " [0.09999912 0.11114655 0.10746579 0.0963617  0.09993023 0.09249744\n",
            "  0.10611791 0.08604696 0.11599048 0.08444379]]\n",
            "I0826 04:30:36.302736 139969877960576 basic_session_run_hooks.py:262] loss = 2.2950833, step = 1\n",
            "I0826 04:30:36.304280 139969877960576 basic_session_run_hooks.py:606] Saving checkpoints for 1 into /tmp/mnist_convnet_model/model.ckpt.\n",
            "I0826 04:30:36.388410 139969877960576 estimator.py:368] Loss for final step: 2.2950833.\n"
          ],
          "name": "stderr"
        },
        {
          "output_type": "execute_result",
          "data": {
            "text/plain": [
              "<tensorflow_estimator.python.estimator.estimator.Estimator at 0x7f4cfc400908>"
            ]
          },
          "metadata": {
            "tags": []
          },
          "execution_count": 22
        }
      ]
    },
    {
      "cell_type": "code",
      "metadata": {
        "id": "YOX93273ML6V",
        "colab_type": "code",
        "colab": {
          "base_uri": "https://localhost:8080/",
          "height": 637
        },
        "outputId": "9a1c7fc6-d0e9-4217-e114-cdb687e42a37"
      },
      "source": [
        "mnist_classifier.train(input_fn=train_input_fn, steps=1000)"
      ],
      "execution_count": 23,
      "outputs": [
        {
          "output_type": "stream",
          "text": [
            "I0826 04:30:48.635376 139969877960576 estimator.py:1145] Calling model_fn.\n",
            "I0826 04:30:48.794754 139969877960576 estimator.py:1147] Done calling model_fn.\n",
            "I0826 04:30:48.797395 139969877960576 basic_session_run_hooks.py:541] Create CheckpointSaverHook.\n",
            "I0826 04:30:48.865067 139969877960576 monitored_session.py:240] Graph was finalized.\n",
            "I0826 04:30:48.870737 139969877960576 saver.py:1284] Restoring parameters from /tmp/mnist_convnet_model/model.ckpt-1\n",
            "W0826 04:30:48.900956 139969877960576 deprecation.py:323] From /usr/local/lib/python3.6/dist-packages/tensorflow_core/python/training/saver.py:1069: get_checkpoint_mtimes (from tensorflow.python.training.checkpoint_management) is deprecated and will be removed in a future version.\n",
            "Instructions for updating:\n",
            "Use standard file utilities to get mtimes.\n",
            "I0826 04:30:48.920620 139969877960576 session_manager.py:500] Running local_init_op.\n",
            "I0826 04:30:48.927757 139969877960576 session_manager.py:502] Done running local_init_op.\n",
            "I0826 04:30:49.090663 139969877960576 basic_session_run_hooks.py:606] Saving checkpoints for 1 into /tmp/mnist_convnet_model/model.ckpt.\n",
            "I0826 04:30:49.435060 139969877960576 basic_session_run_hooks.py:262] loss = 2.291752, step = 2\n",
            "I0826 04:31:20.933928 139969877960576 basic_session_run_hooks.py:692] global_step/sec: 3.17466\n",
            "I0826 04:31:20.939114 139969877960576 basic_session_run_hooks.py:260] loss = 2.277604, step = 102 (31.504 sec)\n",
            "I0826 04:31:52.257320 139969877960576 basic_session_run_hooks.py:692] global_step/sec: 3.1925\n",
            "I0826 04:31:52.264820 139969877960576 basic_session_run_hooks.py:260] loss = 2.2720459, step = 202 (31.326 sec)\n",
            "I0826 04:32:23.525179 139969877960576 basic_session_run_hooks.py:692] global_step/sec: 3.19817\n",
            "I0826 04:32:23.527889 139969877960576 basic_session_run_hooks.py:260] loss = 2.2439852, step = 302 (31.263 sec)\n",
            "I0826 04:32:55.130125 139969877960576 basic_session_run_hooks.py:692] global_step/sec: 3.16406\n",
            "I0826 04:32:55.134720 139969877960576 basic_session_run_hooks.py:260] loss = 2.2345545, step = 402 (31.607 sec)\n",
            "I0826 04:33:26.803939 139969877960576 basic_session_run_hooks.py:692] global_step/sec: 3.15718\n",
            "I0826 04:33:26.809221 139969877960576 basic_session_run_hooks.py:260] loss = 2.199647, step = 502 (31.675 sec)\n",
            "I0826 04:33:58.222587 139969877960576 basic_session_run_hooks.py:692] global_step/sec: 3.18282\n",
            "I0826 04:33:58.224618 139969877960576 basic_session_run_hooks.py:260] loss = 2.1533642, step = 602 (31.415 sec)\n",
            "I0826 04:34:29.733919 139969877960576 basic_session_run_hooks.py:692] global_step/sec: 3.17346\n",
            "I0826 04:34:29.740144 139969877960576 basic_session_run_hooks.py:260] loss = 2.132694, step = 702 (31.516 sec)\n",
            "I0826 04:35:01.073598 139969877960576 basic_session_run_hooks.py:692] global_step/sec: 3.19084\n",
            "I0826 04:35:01.075647 139969877960576 basic_session_run_hooks.py:260] loss = 2.0742931, step = 802 (31.336 sec)\n",
            "I0826 04:35:32.729765 139969877960576 basic_session_run_hooks.py:692] global_step/sec: 3.15894\n",
            "I0826 04:35:32.731747 139969877960576 basic_session_run_hooks.py:260] loss = 1.9839921, step = 902 (31.656 sec)\n",
            "I0826 04:36:03.939182 139969877960576 basic_session_run_hooks.py:606] Saving checkpoints for 1001 into /tmp/mnist_convnet_model/model.ckpt.\n",
            "I0826 04:36:04.027578 139969877960576 estimator.py:368] Loss for final step: 1.8693838.\n"
          ],
          "name": "stderr"
        },
        {
          "output_type": "execute_result",
          "data": {
            "text/plain": [
              "<tensorflow_estimator.python.estimator.estimator.Estimator at 0x7f4cfc400908>"
            ]
          },
          "metadata": {
            "tags": []
          },
          "execution_count": 23
        }
      ]
    },
    {
      "cell_type": "code",
      "metadata": {
        "id": "bBnYTWLlMPNr",
        "colab_type": "code",
        "colab": {
          "base_uri": "https://localhost:8080/",
          "height": 217
        },
        "outputId": "fec7d51c-ac96-4249-d116-729a6ebd6196"
      },
      "source": [
        "eval_input_fn = tf.estimator.inputs.numpy_input_fn(\n",
        "    x={\"x\": eval_data},\n",
        "    y=eval_labels,\n",
        "    num_epochs=1,\n",
        "    shuffle=False)\n",
        "\n",
        "eval_results = mnist_classifier.evaluate(input_fn=eval_input_fn)\n",
        "print(eval_results)"
      ],
      "execution_count": 24,
      "outputs": [
        {
          "output_type": "stream",
          "text": [
            "I0826 04:36:04.064100 139969877960576 estimator.py:1145] Calling model_fn.\n",
            "I0826 04:36:04.155875 139969877960576 estimator.py:1147] Done calling model_fn.\n",
            "I0826 04:36:04.176024 139969877960576 evaluation.py:255] Starting evaluation at 2019-08-26T04:36:04Z\n",
            "I0826 04:36:04.246545 139969877960576 monitored_session.py:240] Graph was finalized.\n",
            "I0826 04:36:04.252213 139969877960576 saver.py:1284] Restoring parameters from /tmp/mnist_convnet_model/model.ckpt-1001\n",
            "I0826 04:36:04.296288 139969877960576 session_manager.py:500] Running local_init_op.\n",
            "I0826 04:36:04.308221 139969877960576 session_manager.py:502] Done running local_init_op.\n",
            "I0826 04:36:12.142699 139969877960576 evaluation.py:275] Finished evaluation at 2019-08-26-04:36:12\n",
            "I0826 04:36:12.143725 139969877960576 estimator.py:2044] Saving dict for global step 1001: accuracy = 0.7119, global_step = 1001, loss = 1.8792425\n",
            "I0826 04:36:12.183482 139969877960576 estimator.py:2104] Saving 'checkpoint_path' summary for global step 1001: /tmp/mnist_convnet_model/model.ckpt-1001\n"
          ],
          "name": "stderr"
        },
        {
          "output_type": "stream",
          "text": [
            "{'accuracy': 0.7119, 'loss': 1.8792425, 'global_step': 1001}\n"
          ],
          "name": "stdout"
        }
      ]
    },
    {
      "cell_type": "code",
      "metadata": {
        "id": "QqjamBNMMR7a",
        "colab_type": "code",
        "colab": {}
      },
      "source": [
        ""
      ],
      "execution_count": 0,
      "outputs": []
    }
  ]
}